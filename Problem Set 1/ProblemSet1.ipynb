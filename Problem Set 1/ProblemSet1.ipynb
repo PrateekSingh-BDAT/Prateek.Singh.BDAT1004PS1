{
 "cells": [
  {
   "cell_type": "markdown",
   "id": "d7eb35a9",
   "metadata": {},
   "source": [
    "## Question 1: \n",
    "\n",
    "Which data type is each of the following:\n",
    "\n",
    "## Answer:\n",
    "\n",
    "1. 5 - int\n",
    "2. 5.0 - float\n",
    "3. 5 > 1 - 5 is greater, 5 --> int \n",
    "4. '5' - String\n",
    "5. 5 * 2 - 10 --> int \n",
    "6. '5' * 2 - 55 --> string\n",
    "7. '5' + '2' - 52 --> string\n",
    "8. 5/2 - 2.5 --> float\n",
    "9. 5&2 - 1 --> int\n",
    "10. {5,2,1} - list\n",
    "11. 5 == 3 - false --> boolean\n",
    "12. Pi - Python Standard Library --> math.pi the type is int\n"
   ]
  },
  {
   "cell_type": "markdown",
   "id": "180efa26",
   "metadata": {},
   "source": [
    "## Question 2: \n",
    "\n",
    "Write (and evaluate) python expressions that answer these questions:\n",
    "a. How many letters are there in 'Supercalifragilisticexpialidocious'?\n",
    "b. Does 'Supercalifragilisticexpialidocious' contain 'ice' as a substring? \n",
    "c. Which of the following words is the longest:\n",
    "Supercalifragilisticexpialidocious, Honorificabilitudinitatibus, or\n",
    "Bababadalgharaghtakamminarronnkonn?\n",
    "d. Which composer comes first in the dictionary: 'Berlioz', 'Borodin', 'Brian',\n",
    "'Bartok', 'Bellini', 'Buxtehude', 'Bernstein'. Which one comes last?"
   ]
  },
  {
   "cell_type": "code",
   "execution_count": 1,
   "id": "aa90f168",
   "metadata": {},
   "outputs": [
    {
     "name": "stdout",
     "output_type": "stream",
     "text": [
      "The number of letters in the word  Supercalifragilisticexpialidocious is 34\n",
      "Yes, ice is in Supercalifragilisticexpialidocious\n",
      "Bababadalgharaghtakamminarronnkonn  and  Supercalifragilisticexpialidocious  are the same\n",
      "Bababadalgharaghtakamminarronnkonn  and  Supercalifragilisticexpialidocious  are the longer than  Honorificabilitudinitatibus\n",
      "Bartok  will come first in the dictionary and  Bellini  will come last.\n"
     ]
    }
   ],
   "source": [
    "#answer\n",
    "\n",
    "#a.\n",
    "\n",
    "problemString = 'Supercalifragilisticexpialidocious' #defining the word in a variable for counting letters\n",
    "print(\"The number of letters in the word \",problemString,\"is\",len(problemString))\n",
    "\n",
    "#b.\n",
    "\n",
    "if 'ice' in problemString: #checking presence of substring in string\n",
    "    print (\"Yes, ice is in\", problemString)\n",
    "else: \n",
    "    print (\"No\")\n",
    "    \n",
    "#c. \n",
    "\n",
    "problemString = 'Supercalifragilisticexpialidocious' #defining the word in a variable for comparison\n",
    "problemString1 = 'Honorificabilitudinitatibus'       #defining the word in a variable for comparison\n",
    "problemString2 = 'Bababadalgharaghtakamminarronnkonn'#defining the word in a variable for comparison\n",
    "\n",
    "if len(problemString)> len(problemString1) and len(problemString) > len(problemString2): #checking one against the other two\n",
    "    print(problemString,\" is the longest\")\n",
    "elif len(problemString1)> len(problemString) and len(problemString1) > len(problemString2): #checking one against the other two\n",
    "    print(problemString1,\" is the longest\")\n",
    "elif len(problemString2)> len(problemString) and len(problemString2) > len(problemString1): #checking one against the other two\n",
    "    print(problemString2,\" is the longest\")\n",
    "elif len(problemString) == len(problemString1): #checking incase words are same in length \n",
    "    print(problemString,\" and \", problemString1, \" are the same\")\n",
    "    if len(problemString) > len(problemString2) and len(problemString1) > len(problemString2):\n",
    "        print(problemString,\" and \", problemString1, \" are the longer than \",problemString2)\n",
    "elif len(problemString1) == len(problemString2):\n",
    "    print(problemString1,\" and \", problemString2, \" are the same\")\n",
    "    if len(problemString1) > len(problemString) and len(problemString2) > len(problemString):\n",
    "        print(problemString1,\" and \", problemString2, \" are the longer than \",problemString)\n",
    "elif len(problemString2) == len(problemString):\n",
    "    print(problemString2,\" and \", problemString, \" are the same\")\n",
    "    if len(problemString2) > len(problemString1) and len(problemString) > len(problemString1):\n",
    "        print(problemString2,\" and \", problemString, \" are the longer than \",problemString1)\n",
    "        \n",
    "#d.\n",
    "\n",
    "composers = ['Berlioz', 'Borodin', 'Brian','Bartok', 'Bellini', 'Buxtehude', 'Bernstein'] #defining list\n",
    "composers.sort()\n",
    "print(composers[0],\" will come first in the dictionary and \", composers[-1],\" will come last.\") #Note to professor: \n",
    "                                                                                                #On review I realized that I had caused a typo and not put the \n",
    "                                                                                                #- infront of 1 because of which the answer has come Bellini, \n",
    "                                                                                                #I went back and changed the code however executing it will mess up the order of the assignment. \n",
    "                                                                                                #Please disregard the the last result, the real Result is Buxtehude. \n",
    "                                                                                                #Apologies for any inconvenience."
   ]
  },
  {
   "cell_type": "markdown",
   "id": "74622a70",
   "metadata": {},
   "source": [
    "## Question 3: \n",
    "Implement function triangleArea(a,b,c) that takes as input the lengths of the 3\n",
    "sides of a triangle and returns the area of the triangle. By Heron's formula, the area\n",
    "of a triangle with side lengths a, b, and c is\n",
    "s(s - a)(s -b)(s -c)\n",
    ", where\n",
    "s = (a+b+c)/2.\n",
    ">>> triangleArea(2,2,2)\n",
    "1.7320508075688772"
   ]
  },
  {
   "cell_type": "code",
   "execution_count": 2,
   "id": "56f1952b",
   "metadata": {},
   "outputs": [
    {
     "name": "stdout",
     "output_type": "stream",
     "text": [
      "1.7320508075688772\n"
     ]
    }
   ],
   "source": [
    "#answer:\n",
    "\n",
    "import math\n",
    "def triangleArea(side1,side2,side3):\n",
    "    \n",
    "    semiPerimeter = (side1+side2+side3)/2 # Referencing Wikipedia.org; In heron's formula or the hero's formula, named after the hero of alexandria, s is the semi perimeter\n",
    "    \n",
    "    area = math.sqrt(semiPerimeter*((semiPerimeter-side1)*(semiPerimeter-side2)*(semiPerimeter-side3))) #using python standard library Math\n",
    "    return area\n",
    "\n",
    "print(triangleArea(2,2,2))"
   ]
  },
  {
   "cell_type": "markdown",
   "id": "5e4b0aea",
   "metadata": {},
   "source": [
    "## Question 4: \n",
    "Write a program in python to separate odd and even integers in separate arrays. Go\n",
    "to the editor\n",
    "Test Data :\n",
    "Input the number of elements to be stored in the array :5\n",
    "Input 5 elements in the array :\n",
    "element - 0 : 25\n",
    "element - 1 : 47\n",
    "element - 2 : 42\n",
    "element - 3 : 56\n",
    "element - 4 : 32\n",
    "Expected Output:\n",
    "The Even elements are:\n",
    "42 56 32\n",
    "The Odd elements are :\n",
    "25 47"
   ]
  },
  {
   "cell_type": "code",
   "execution_count": 4,
   "id": "8d6093ff",
   "metadata": {},
   "outputs": [
    {
     "name": "stdout",
     "output_type": "stream",
     "text": [
      "Enter the number of elements to be stored in the array: 5\n",
      "Enter  5  elements in the array:\n",
      "25\n",
      "47\n",
      "42\n",
      "56\n",
      "32\n",
      "The Even elements are:\n",
      " [42, 56, 32]\n",
      "The odd elements are:\n",
      " [25, 47]\n"
     ]
    }
   ],
   "source": [
    "#answer: \n",
    "listSize = int(input('Enter the number of elements to be stored in the array: ')) #taking the input of the list size\n",
    "mixList=[]  #creating empty lists\n",
    "evenList=[] #creating empty lists\n",
    "oddList=[]  #creating empty lists\n",
    "\n",
    "print(\"Enter \", listSize,\" elements in the array:\") #prompt to the user\n",
    "\n",
    "for index in range(0,listSize,1):\n",
    "    mixList.append(int(input())) #creating the list that contains both even and odd numbers\n",
    "\n",
    "for index in range(0,listSize,1):\n",
    "    if mixList[index] == 1: #if the user enters 1, it will go in both lists because 1 is neither even nor odd\n",
    "        evenList.append(mixList[index])\n",
    "        oddList.append(mixList[index])\n",
    "    elif (mixList[index]%2) ==0:\n",
    "        evenList.append(mixList[index]) #creating even list\n",
    "    else:\n",
    "        oddList.append(mixList[index]) #creating odd list\n",
    "    \n",
    "print(\"The Even elements are:\\n\",evenList)\n",
    "print(\"The odd elements are:\\n\",oddList)"
   ]
  },
  {
   "cell_type": "markdown",
   "id": "3c71b52d",
   "metadata": {},
   "source": [
    "## Question 5\n",
    "a. Write a function inside(x,y,x1,y1,x2,y2) that returns True or False\n",
    "depending on whether the point (x,y) lies in the rectangle with lower left\n",
    "corner (x1,y1) and upper right corner (x2,y2).\n",
    ">>> inside(1,1,0,0,2,3)\n",
    "True\n",
    ">>> inside(-1,-1,0,0,2,3)\n",
    "False\n",
    "b. Use function inside() from part a. to write an expression that tests whether\n",
    "the point (1,1) lies in both of the following rectangles: one with lower left\n",
    "corner (0.3, 0.5) and upper right corner (1.1, 0.7) and the other with lower\n",
    "left corner (0.5, 0.2) and upper right corner (1.1, 2). "
   ]
  },
  {
   "cell_type": "code",
   "execution_count": 1,
   "id": "dd0660f6",
   "metadata": {},
   "outputs": [
    {
     "name": "stdout",
     "output_type": "stream",
     "text": [
      "True\n",
      "False\n"
     ]
    }
   ],
   "source": [
    "#Answer 5 \n",
    "#a.\n",
    "\n",
    "def inside(x,y,x1,y1,x2,y2): #defining function \n",
    "    if (x>x1) and (y>y1) and (x<x2) and (y<y2): # checking if the points are greater than the bottom left corner\n",
    "        return True                             # coordinates and lesser than the top right corner coordinates\n",
    "    else:\n",
    "        return False\n",
    "    \n",
    "result = inside(1,1,0,0,2,3)\n",
    "print(result)\n",
    "result2 = inside(-1,-1,0,0,2,3)\n",
    "print(result2)\n",
    "\n"
   ]
  },
  {
   "cell_type": "markdown",
   "id": "a5c66639",
   "metadata": {},
   "source": []
  },
  {
   "cell_type": "code",
   "execution_count": 2,
   "id": "7e734c41",
   "metadata": {},
   "outputs": [
    {
     "name": "stdout",
     "output_type": "stream",
     "text": [
      "False\n",
      "True\n"
     ]
    }
   ],
   "source": [
    "#Answer 5\n",
    "#b. \n",
    "\n",
    "def inside(x,y,x1,y1,x2,y2):\n",
    "    if (x>x1) and (y>y1) and (x<x2) and (y<y2): # checking if the points are greater than the bottom left corner\n",
    "        return True                             # coordinates and lesser than the top right corner coordinates\n",
    "    else:\n",
    "        return False\n",
    "    \n",
    "result = inside(1,1,0.3,0.5,1.1,0.7)\n",
    "print(result)\n",
    "result = inside(1,1,0.5,0.2,1.1,2)\n",
    "print(result)"
   ]
  },
  {
   "cell_type": "markdown",
   "id": "2839ac7d",
   "metadata": {},
   "source": [
    "## Question 6\n",
    "\n",
    "16. You can turn a word into pig-Latin using the following two rules (simplified):\n",
    "• If the word starts with a consonant, move that letter to the end and append\n",
    "'ay'. For example, 'happy' becomes 'appyhay' and 'pencil' becomes 'encilpay'.\n",
    "• If the word starts with a vowel, simply append 'way' to the end of the word.\n",
    "For example, 'enter' becomes 'enterway' and 'other' becomes 'otherway' . For\n",
    "our purposes, there are 5 vowels: a, e, i, o, u (so we count y as a consonant).\n",
    "Write a function pig() that takes a word (i.e., a string) as input and returns its pigLatin form. Your function should still work if the input word contains upper case\n",
    "characters. Your output should always be lower case however.\n",
    ">>> pig('happy')\n",
    "'appyhay'\n",
    ">>> pig('Enter')\n",
    "'enterway' "
   ]
  },
  {
   "cell_type": "code",
   "execution_count": 3,
   "id": "60b01bf8",
   "metadata": {},
   "outputs": [
    {
     "name": "stdout",
     "output_type": "stream",
     "text": [
      "appyhay\n",
      "enterway\n"
     ]
    }
   ],
   "source": [
    "#Answer 6\n",
    "\n",
    "problemString = str() #constructor for string problemString \n",
    "\n",
    "def pig(problemString):\n",
    "    problemString = problemString.lower() #making problemString Lower for evaluation\n",
    "    if (problemString[0]) == 'a':               #comparing the first letter against all vowels\n",
    "        problemString = problemString + 'way'\n",
    "        return problemString\n",
    "    elif (problemString[0]) == 'e':\n",
    "        problemString = problemString + 'way'\n",
    "        return problemString\n",
    "    elif (problemString[0]) == 'i':\n",
    "        problemString = problemString + 'way'\n",
    "        return problemString\n",
    "    elif (problemString[0]) == 'o':\n",
    "        problemString = problemString + 'way'\n",
    "        return problemString\n",
    "    elif (problemString[0]) == 'u':\n",
    "        problemString = problemString + 'way'\n",
    "        return problemString\n",
    "    else:                                      #evaluating because first letter is consonant\n",
    "        firstLetter = problemString[0]\n",
    "        problemString = problemString + firstLetter\n",
    "        problemString = problemString + 'ay'\n",
    "        problemString = problemString[1:]\n",
    "        return problemString\n",
    "\n",
    "pigLatin = pig('happy')\n",
    "print(pigLatin)\n",
    "pigLatin = pig('Enter')\n",
    "print(pigLatin)"
   ]
  },
  {
   "cell_type": "markdown",
   "id": "5d74be5a",
   "metadata": {},
   "source": [
    "## Question 7\n",
    "Question 7\n",
    "File bloodtype1.txt records blood-types of patients (A, B, AB, O or OO) at a clinic.\n",
    "Write a function bldcount() that reads the file with name name and reports (i.e.,\n",
    "prints) how many patients there are in each bloodtype.\n",
    ">>> bldcount('bloodtype.txt')\n",
    "There are 10 patients of blood type A.\n",
    "There is one patient of blood type B.\n",
    "There are 10 patients of blood type AB.\n",
    "There are 12 patients of blood type O.\n",
    "There are no patients of blood type OO."
   ]
  },
  {
   "cell_type": "code",
   "execution_count": 1,
   "id": "774c70cd",
   "metadata": {},
   "outputs": [
    {
     "name": "stdout",
     "output_type": "stream",
     "text": [
      "There are  15  patients of blood type A\n",
      "There are  1  patients of blood type B\n",
      "There are  13  patients of blood type AB\n",
      "There are  15  patients of blood type O\n",
      "There are  0  patients of blood type OO\n"
     ]
    }
   ],
   "source": [
    "def bldcount(fileName):\n",
    "    typeA = 0 #setting counters for blood types\n",
    "    typeB = 0 #setting counters for blood types\n",
    "    typeAB = 0 #setting counters for blood types\n",
    "    typeO = 0 #setting counters for blood types\n",
    "    typeOO = 0 #setting counters for blood types\n",
    "    bloodBank = open(fileName,'r') \n",
    "    bloodtypeList = bloodBank.read() \n",
    "    iterationList = bloodtypeList.split(' ') #creating list from file content\n",
    "    for bloodType in iterationList: #iterating through list\n",
    "        if bloodType == 'A': #counting the number of bloodtypes\n",
    "            typeA = typeA + 1\n",
    "        if bloodType == 'B':\n",
    "            typeB = typeB + 1\n",
    "        if bloodType == 'AB':\n",
    "            typeAB = typeAB + 1\n",
    "        if bloodType == 'O':\n",
    "            typeO = typeO + 1\n",
    "        if bloodType == 'OO':\n",
    "            typeOO = typeOO + 1\n",
    "        else:\n",
    "            continue\n",
    "    print('There are ',typeA,' patients of blood type A')\n",
    "    print('There are ',typeB,' patients of blood type B')\n",
    "    print('There are ',typeAB,' patients of blood type AB')\n",
    "    print('There are ',typeO,' patients of blood type O')\n",
    "    print('There are ',typeOO,' patients of blood type OO')\n",
    "    bloodBank.close()\n",
    "    \n",
    "bldcount('bloodtype1.txt')"
   ]
  },
  {
   "cell_type": "markdown",
   "id": "c8a7ae86",
   "metadata": {},
   "source": [
    "## Question 8\n",
    "Write a function curconv() that takes as input:\n",
    "1. a currency represented using a string (e.g., 'JPY' for the Japanese Yen or\n",
    "'EUR' for the Euro)\n",
    "2. an amount\n",
    "and then converts and returns the amount in US dollars.\n",
    ">>> curconv('EUR', 100)\n",
    ">>> curconv('JPY', 100)"
   ]
  },
  {
   "cell_type": "code",
   "execution_count": 2,
   "id": "97ed24f7",
   "metadata": {},
   "outputs": [
    {
     "name": "stdout",
     "output_type": "stream",
     "text": [
      "122.96544\n",
      "1.241401\n"
     ]
    }
   ],
   "source": [
    "def curconv(string,amount):\n",
    "    currencyDictionary = {} #constructing empty dictionary\n",
    "    currencyLog = open('currencies.txt','r') #opening currency file\n",
    "    currencyList = currencyLog.readlines() #reading the file into a list\n",
    "    for currency in currencyList:\n",
    "        arrayReader = currency.split()\n",
    "        currencyDictionary[arrayReader[0]] = arrayReader[1] #adding currencies into dictionary currencyDictionary\n",
    "    for key in currencyDictionary: #iterating through the dictionary \n",
    "        if string in key: #comparing currency name against keys in dictionary \n",
    "            return (float(amount)*float(currencyDictionary[key]))\n",
    "    \n",
    "currencyExchange = curconv('EUR',100)\n",
    "print(currencyExchange)\n",
    "currencyExchange = curconv('JPY',100)\n",
    "print(currencyExchange)"
   ]
  },
  {
   "cell_type": "markdown",
   "id": "c5c14694",
   "metadata": {},
   "source": [
    "## Question 9\n",
    "\n",
    "Each of the following will cause an exception (an error). Identify what type of\n",
    "exception each will cause.:\n",
    "\n",
    "1. Trying to add incompatible variables, as in adding 6 + ‘a’ \n",
    "2. Referring to the 12th item of a list that has only 10 items\n",
    "3. Using a value that is out of range for a function’s input, such as calling math.sqrt(-1.0)\n",
    "4. Using an undeclared variable, such as print(x) when x has not been defined\n",
    "5. Trying to open a file that does not exist, such as mistyping the file name or looking in the wrong directory\n",
    "\n",
    "## Answer 9 \n",
    "\n",
    "1. unsupported operand type(s) for +\n",
    "2. list index out of range\n",
    "3. domain error\n",
    "4. name 'x' is not defined\n",
    "5. No such file or directory"
   ]
  },
  {
   "cell_type": "markdown",
   "id": "04139d2b",
   "metadata": {},
   "source": [
    "## Question 10 \n",
    "\n",
    "Encryption is the process of hiding the meaning of a text by substituting letters in the\n",
    "message with other letters, according to some system. If the process is successful, no\n",
    "one but the intended recipient can understand the encrypted message. Cryptanalysis\n",
    "refers to attempts to undo the encryption, even if some details of the encryption are\n",
    "unknown (for example, if an encrypted message has been intercepted). The first step\n",
    "of cryptanalysis is often to build up a table of letter frequencies in the encrypted text.\n",
    "Assume that the string letters is already defined as\n",
    "'abcdefghijklmnopqrstuvwxyz'. Write a function called frequencies()\n",
    "that takes a string as its only parameter, and returns a list of integers, showing the\n",
    "number of times each character appears in the text. Your function may ignore any\n",
    "characters that are not in letters.\n",
    ">>> frequencies('The quick red fox got bored and went home.')\n",
    "\n",
    ">>> frequencies('apple')"
   ]
  },
  {
   "cell_type": "code",
   "execution_count": 3,
   "id": "61c96ea4",
   "metadata": {},
   "outputs": [
    {
     "name": "stdout",
     "output_type": "stream",
     "text": [
      "[1, 2, 5, 1, 1, 1, 1, 1, 2, 3, 1, 4, 1, 1, 2, 1, 1, 2, 1, 1, 1]\n",
      "[1, 2, 1, 1]\n"
     ]
    }
   ],
   "source": [
    "#Answer 10:\n",
    "def frequencies(string):\n",
    "    letterCounters = {} #constructing an empty dictionary\n",
    "    cryptanalysisCount = list() #constructing an empty list\n",
    "    for letter in string: #iterating through input string\n",
    "        if letter == ' ': #disregaring spaces as they are not a part of string letters\n",
    "            continue\n",
    "        elif letter in letterCounters:\n",
    "            letterCounters[letter] += 1 #counting each instance of an occurrence of a letter\n",
    "        else: \n",
    "            letterCounters[letter] = 1 # incase first occurrence of letter, initialise to 1.\n",
    "    for index in letterCounters.keys():\n",
    "        cryptanalysisCount.append(letterCounters[index]) #creating list to store list of occurrences\n",
    "    \n",
    "    return cryptanalysisCount\n",
    "\n",
    "print(frequencies('The quick red fox got bored and went home.'))\n",
    "print(frequencies('apple'))"
   ]
  },
  {
   "cell_type": "code",
   "execution_count": null,
   "id": "a1f2c38f",
   "metadata": {},
   "outputs": [],
   "source": []
  }
 ],
 "metadata": {
  "kernelspec": {
   "display_name": "Python 3 (ipykernel)",
   "language": "python",
   "name": "python3"
  },
  "language_info": {
   "codemirror_mode": {
    "name": "ipython",
    "version": 3
   },
   "file_extension": ".py",
   "mimetype": "text/x-python",
   "name": "python",
   "nbconvert_exporter": "python",
   "pygments_lexer": "ipython3",
   "version": "3.9.7"
  }
 },
 "nbformat": 4,
 "nbformat_minor": 5
}
